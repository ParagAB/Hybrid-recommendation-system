{
 "cells": [
  {
   "cell_type": "markdown",
   "metadata": {},
   "source": [
    "# Hybrid Movie Recommendation System Demo\n",
    "\n",
    "<i>The following recommendation system is using hybrid approach. The hybrid approach gives much better results compared to simple collaborative filtering and simple content based filtering</i>"
   ]
  },
  {
   "cell_type": "markdown",
   "metadata": {},
   "source": [
    "![img_reco](https://www.researchgate.net/profile/Marwa_Mohamed49/publication/331063850/figure/fig3/AS:729493727621125@1550936266704/Content-based-filtering-and-Collaborative-filtering-recommendation.ppm)"
   ]
  },
  {
   "cell_type": "code",
   "execution_count": 5,
   "metadata": {},
   "outputs": [],
   "source": [
    "import pandas as pd\n",
    "from sklearn.metrics.pairwise import cosine_similarity\n",
    "import numpy as np"
   ]
  },
  {
   "cell_type": "markdown",
   "metadata": {},
   "source": [
    "# Load Feature Vectors"
   ]
  },
  {
   "cell_type": "code",
   "execution_count": 12,
   "metadata": {},
   "outputs": [],
   "source": [
    "latent_matrix_1_df = pd.read_csv('LFeature1.csv',index_col=0)\n",
    "latent_matrix_2_df = pd.read_csv('LFeature2.csv',index_col=0)"
   ]
  },
  {
   "cell_type": "markdown",
   "metadata": {},
   "source": [
    "# Movies in the dataset\n",
    "\n",
    "#### sample of movies in dataset"
   ]
  },
  {
   "cell_type": "code",
   "execution_count": 17,
   "metadata": {
    "scrolled": false
   },
   "outputs": [
    {
     "data": {
      "text/plain": [
       "Index(['Toy Story (1995)', 'Jumanji (1995)', 'Grumpier Old Men (1995)',\n",
       "       'Waiting to Exhale (1995)', 'Father of the Bride Part II (1995)',\n",
       "       'Heat (1995)', 'Sabrina (1995)', 'Tom and Huck (1995)',\n",
       "       'Sudden Death (1995)', 'GoldenEye (1995)',\n",
       "       'American President, The (1995)', 'Dracula: Dead and Loving It (1995)',\n",
       "       'Balto (1995)', 'Nixon (1995)', 'Cutthroat Island (1995)',\n",
       "       'Casino (1995)', 'Sense and Sensibility (1995)', 'Four Rooms (1995)',\n",
       "       'Ace Ventura: When Nature Calls (1995)', 'Money Train (1995)',\n",
       "       'Get Shorty (1995)', 'Copycat (1995)', 'Assassins (1995)',\n",
       "       'Powder (1995)', 'Leaving Las Vegas (1995)', 'Othello (1995)',\n",
       "       'Now and Then (1995)', 'Persuasion (1995)',\n",
       "       'City of Lost Children, The (Cité des enfants perdus, La) (1995)',\n",
       "       'Shanghai Triad (Yao a yao yao dao waipo qiao) (1995)',\n",
       "       'Dangerous Minds (1995)', 'Twelve Monkeys (a.k.a. 12 Monkeys) (1995)',\n",
       "       'Wings of Courage (1995)', 'Babe (1995)', 'Carrington (1995)',\n",
       "       'Dead Man Walking (1995)', 'Across the Sea of Time (1995)',\n",
       "       'It Takes Two (1995)', 'Clueless (1995)',\n",
       "       'Cry, the Beloved Country (1995)', 'Richard III (1995)',\n",
       "       'Dead Presidents (1995)', 'Restoration (1995)', 'Mortal Kombat (1995)',\n",
       "       'To Die For (1995)', 'How to Make an American Quilt (1995)',\n",
       "       'Seven (a.k.a. Se7en) (1995)', 'Pocahontas (1995)',\n",
       "       'When Night Is Falling (1995)', 'Usual Suspects, The (1995)'],\n",
       "      dtype='object')"
      ]
     },
     "execution_count": 17,
     "metadata": {},
     "output_type": "execute_result"
    }
   ],
   "source": [
    "latent_matrix_1_df.index[:50]"
   ]
  },
  {
   "cell_type": "markdown",
   "metadata": {},
   "source": [
    "![hybrid](https://miro.medium.com/max/635/1*XH3CT3gwQtwtOLvL-n48pg.jpeg)"
   ]
  },
  {
   "cell_type": "code",
   "execution_count": 13,
   "metadata": {},
   "outputs": [],
   "source": [
    "def getSimilarity(movie_name,index):\n",
    "    a_1 = np.array(latent_matrix_1_df.loc[movie_name]).reshape(1, -1)\n",
    "    a_2 = np.array(latent_matrix_2_df.loc[movie_name]).reshape(1, -1)\n",
    "\n",
    "    # calculate the similartity of this movie with the others in the list\n",
    "    score_1 = cosine_similarity(latent_matrix_1_df, a_1).reshape(-1)\n",
    "    score_2 = cosine_similarity(latent_matrix_2_df, a_2).reshape(-1)\n",
    "\n",
    "    # an average measure of both content and collaborative \n",
    "    hybrid = ((score_1 + score_2)/2.0)\n",
    "    \n",
    "    # form a data frame of similar movies  \n",
    "    #similar = pd.DataFrame(dictDf, index = latent_matrix_1_df.index )\n",
    "    similarity = pd.DataFrame(columns = latent_matrix_1_df.index )\n",
    "    similarity.loc[index] = hybrid\n",
    "\n",
    "    return similarity\n"
   ]
  },
  {
   "cell_type": "markdown",
   "metadata": {},
   "source": [
    "## Appending movies in the list will give recommendation"
   ]
  },
  {
   "cell_type": "code",
   "execution_count": 18,
   "metadata": {
    "scrolled": true
   },
   "outputs": [
    {
     "data": {
      "text/plain": [
       "Dumb & Dumber (Dumb and Dumber) (1994)      1.757729\n",
       "Liar Liar (1997)                            1.725731\n",
       "Cable Guy, The (1996)                       1.674836\n",
       "Ice Age (2002)                              1.626564\n",
       "Bruce Almighty (2003)                       1.621566\n",
       "Aladdin (1992)                              1.613701\n",
       "Mrs. Doubtfire (1993)                       1.605806\n",
       "Batman Forever (1995)                       1.605254\n",
       "Alice in Wonderland (2010)                  1.597173\n",
       "Charlie and the Chocolate Factory (2005)    1.559272\n",
       "Finding Nemo (2003)                         1.556854\n",
       "Antz (1998)                                 1.546802\n",
       "Toy Story 2 (1999)                          1.539201\n",
       "James and the Giant Peach (1996)            1.538228\n",
       "Lion King, The (1994)                       1.537001\n",
       "dtype: float64"
      ]
     },
     "execution_count": 18,
     "metadata": {},
     "output_type": "execute_result"
    }
   ],
   "source": [
    "list_of_movies = ['Toy Story (1995)', 'Jumanji (1995)','Alice in Wonderland (2010)',\n",
    "                  'Ace Ventura: When Nature Calls (1995)',\n",
    "                  'Shanghai Triad (Yao a yao yao dao waipo qiao) (1995)']\n",
    "Rec_Df = pd.DataFrame()\n",
    "for index,movie in enumerate(list_of_movies):\n",
    "    Rec_Df = Rec_Df.append(getSimilarity(movie,index))\n",
    "    \n",
    "Rec_Df.head(10)\n",
    "Rec_Df.sum().sort_values(ascending=False).head(20)[len(list_of_movies):]"
   ]
  },
  {
   "cell_type": "markdown",
   "metadata": {},
   "source": [
    "## Conclusion\n",
    "\n",
    "Compared to a simple collaborative approach and content-based filtering hybrid approach gives better results since it tackles the problem like cold start and data sparsity. Content-based filtering gives model support in case ratings are not a strong indicator of a particular item."
   ]
  },
  {
   "cell_type": "markdown",
   "metadata": {},
   "source": [
    "*This notebook is for Demo purpose. To create your own recommendation system please refer the python script in the repo "
   ]
  }
 ],
 "metadata": {
  "kernelspec": {
   "display_name": "Python 3",
   "language": "python",
   "name": "python3"
  },
  "language_info": {
   "codemirror_mode": {
    "name": "ipython",
    "version": 3
   },
   "file_extension": ".py",
   "mimetype": "text/x-python",
   "name": "python",
   "nbconvert_exporter": "python",
   "pygments_lexer": "ipython3",
   "version": "3.6.7"
  }
 },
 "nbformat": 4,
 "nbformat_minor": 2
}
